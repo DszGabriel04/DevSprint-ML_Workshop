{
  "cells": [
    {
      "cell_type": "markdown",
      "id": "fdcd49fa-224f-40cc-829b-28aee5d8fb03",
      "metadata": {
        "id": "fdcd49fa-224f-40cc-829b-28aee5d8fb03"
      },
      "source": [
        "# DevSprint : Machine Learning Workshop\n",
        "### Dataset link : https://archive.ics.uci.edu/dataset/9/auto+mpg\n",
        "#### Data preprocessing and Prediction of City-cycle fuel consumption in miles per gallon(mpg), in terms of 8 attributes using Machine Learning techniques (Linear Regression, Random Forests)."
      ]
    },
    {
      "cell_type": "markdown",
      "id": "e5b55070-35a9-46cb-9015-8f81918488ed",
      "metadata": {
        "id": "e5b55070-35a9-46cb-9015-8f81918488ed"
      },
      "source": [
        "## Part 1 : Data Preprocessing"
      ]
    },
    {
      "cell_type": "markdown",
      "id": "87159f9c-3dfe-424d-ae3d-2a89dc868e86",
      "metadata": {
        "id": "87159f9c-3dfe-424d-ae3d-2a89dc868e86"
      },
      "source": [
        "## Importing the relevant libraries"
      ]
    },
    {
      "cell_type": "code",
      "source": [
        "!pip install ucimlrepo"
      ],
      "metadata": {
        "id": "fbA0GDS-fOa7"
      },
      "id": "fbA0GDS-fOa7",
      "execution_count": null,
      "outputs": []
    },
    {
      "cell_type": "code",
      "execution_count": null,
      "id": "a555cce2-f402-40d1-91bf-e1eb6c266770",
      "metadata": {
        "id": "a555cce2-f402-40d1-91bf-e1eb6c266770"
      },
      "outputs": [],
      "source": [
        "import pandas as pd\n",
        "import numpy as np"
      ]
    },
    {
      "cell_type": "markdown",
      "id": "bffc6f37-febf-4a15-9a8f-05f5f3792b35",
      "metadata": {
        "id": "bffc6f37-febf-4a15-9a8f-05f5f3792b35"
      },
      "source": [
        "## Importing the dataset"
      ]
    },
    {
      "cell_type": "code",
      "execution_count": null,
      "id": "75ec7e67-d124-4170-aaa9-9024fc0d81b0",
      "metadata": {
        "id": "75ec7e67-d124-4170-aaa9-9024fc0d81b0"
      },
      "outputs": [],
      "source": [
        "from ucimlrepo import fetch_ucirepo\n",
        "\n",
        "# fetch dataset\n",
        "auto_mpg = fetch_ucirepo(id=9)\n"
      ]
    },
    {
      "cell_type": "code",
      "source": [
        "# data (as pandas dataframes)\n",
        "df = auto_mpg.data.features.join(auto_mpg.data.targets)\n",
        "df.head()"
      ],
      "metadata": {
        "id": "wfOX8Hv6aDmT"
      },
      "id": "wfOX8Hv6aDmT",
      "execution_count": null,
      "outputs": []
    },
    {
      "cell_type": "markdown",
      "id": "a7285768-3195-4da3-ae74-c14202699485",
      "metadata": {
        "id": "a7285768-3195-4da3-ae74-c14202699485"
      },
      "source": [
        "## Checking for NULL Values"
      ]
    },
    {
      "cell_type": "code",
      "execution_count": null,
      "id": "78f96bd6-9282-42a6-91e0-dafea8da81ae",
      "metadata": {
        "id": "78f96bd6-9282-42a6-91e0-dafea8da81ae"
      },
      "outputs": [],
      "source": [
        "df.info()  #gives information about the data"
      ]
    },
    {
      "cell_type": "code",
      "execution_count": null,
      "id": "b8d4dfac-9d14-4966-acd0-c6da4ce7c40f",
      "metadata": {
        "id": "b8d4dfac-9d14-4966-acd0-c6da4ce7c40f"
      },
      "outputs": [],
      "source": [
        "df.isnull().sum()   #how many null values in each column"
      ]
    },
    {
      "cell_type": "markdown",
      "id": "9d9a4b18-c8d8-4e1e-ae59-e87d3b9b4b3f",
      "metadata": {
        "id": "9d9a4b18-c8d8-4e1e-ae59-e87d3b9b4b3f"
      },
      "source": [
        "### Horsepower has 6 null values which we must delete. So we delete all those rows."
      ]
    },
    {
      "cell_type": "code",
      "execution_count": null,
      "id": "23daf940-e724-4613-b522-8804d568efa4",
      "metadata": {
        "id": "23daf940-e724-4613-b522-8804d568efa4"
      },
      "outputs": [],
      "source": [
        "df=df.dropna()    #dropping the rows having null values\n",
        "df"
      ]
    },
    {
      "cell_type": "code",
      "execution_count": null,
      "id": "c0efeeff-14ad-4f59-9d2b-8edcdcd5f444",
      "metadata": {
        "id": "c0efeeff-14ad-4f59-9d2b-8edcdcd5f444"
      },
      "outputs": [],
      "source": [
        "df=df.reset_index(drop=True)   #resetting the indices after dropping those rows\n",
        "df"
      ]
    },
    {
      "cell_type": "code",
      "execution_count": null,
      "id": "c45bd7a5-99bb-4a94-9b57-c38828647bbe",
      "metadata": {
        "id": "c45bd7a5-99bb-4a94-9b57-c38828647bbe"
      },
      "outputs": [],
      "source": [
        "df.info()"
      ]
    },
    {
      "cell_type": "code",
      "source": [
        "df.isnull().sum()"
      ],
      "metadata": {
        "id": "noYP2eTzgy9j"
      },
      "id": "noYP2eTzgy9j",
      "execution_count": null,
      "outputs": []
    },
    {
      "cell_type": "markdown",
      "id": "293d76c4-956e-4139-a046-97831dc6cfeb",
      "metadata": {
        "id": "293d76c4-956e-4139-a046-97831dc6cfeb"
      },
      "source": [
        "### Hence we have removed the NULL Values"
      ]
    },
    {
      "cell_type": "markdown",
      "id": "ef04c586-7b09-41c6-aa5f-65443fb191c3",
      "metadata": {
        "id": "ef04c586-7b09-41c6-aa5f-65443fb191c3"
      },
      "source": [
        "## Exploratory data Analysis"
      ]
    },
    {
      "cell_type": "code",
      "execution_count": null,
      "id": "cf0ad6df-a8e7-4517-aba2-7f1a4a140bba",
      "metadata": {
        "id": "cf0ad6df-a8e7-4517-aba2-7f1a4a140bba"
      },
      "outputs": [],
      "source": [
        "df.describe()   #Gives statistical information about the data"
      ]
    },
    {
      "cell_type": "code",
      "execution_count": null,
      "id": "f0f867ec-36b1-482e-a3b6-7079b53b5c9c",
      "metadata": {
        "id": "f0f867ec-36b1-482e-a3b6-7079b53b5c9c"
      },
      "outputs": [],
      "source": [
        "df.nunique()  #Number of unique values in each column"
      ]
    },
    {
      "cell_type": "code",
      "execution_count": null,
      "id": "08f16531-97eb-48a1-b7a7-514463139526",
      "metadata": {
        "id": "08f16531-97eb-48a1-b7a7-514463139526"
      },
      "outputs": [],
      "source": [
        "df.dtypes   #checking for non-numerical variables"
      ]
    },
    {
      "cell_type": "markdown",
      "id": "39ad0ff6-3677-4784-8b1a-290fd720e4ee",
      "metadata": {
        "id": "39ad0ff6-3677-4784-8b1a-290fd720e4ee"
      },
      "source": [
        "## Splitting Data into x and y"
      ]
    },
    {
      "cell_type": "code",
      "execution_count": null,
      "id": "bd3d0701-bd2b-47c9-8fc8-a94bf6bae899",
      "metadata": {
        "id": "bd3d0701-bd2b-47c9-8fc8-a94bf6bae899"
      },
      "outputs": [],
      "source": [
        "x=df.iloc[:,0:7]   #x -> the first 7 columns  (inputs)\n",
        "y=df.iloc[:,7:]    #y -> the last column (output/target)"
      ]
    },
    {
      "cell_type": "code",
      "execution_count": null,
      "id": "08f8b749-935b-4df2-bf02-91cc4f025ef0",
      "metadata": {
        "id": "08f8b749-935b-4df2-bf02-91cc4f025ef0"
      },
      "outputs": [],
      "source": [
        "x"
      ]
    },
    {
      "cell_type": "code",
      "execution_count": null,
      "id": "2be83897-af8b-41d1-8d7e-49a20ba32452",
      "metadata": {
        "id": "2be83897-af8b-41d1-8d7e-49a20ba32452"
      },
      "outputs": [],
      "source": [
        "y"
      ]
    },
    {
      "cell_type": "markdown",
      "id": "a35b8ed2-855d-4cca-988e-d69213b253d5",
      "metadata": {
        "id": "a35b8ed2-855d-4cca-988e-d69213b253d5"
      },
      "source": [
        "## Encoding Categorical Variables"
      ]
    },
    {
      "cell_type": "markdown",
      "id": "d3bd1e9b-cb12-45d2-a6cd-95512d7acc84",
      "metadata": {
        "id": "d3bd1e9b-cb12-45d2-a6cd-95512d7acc84"
      },
      "source": [
        "#### We need to encode the 'origin' column as one-hot encoded values."
      ]
    },
    {
      "cell_type": "code",
      "source": [
        "x\n"
      ],
      "metadata": {
        "id": "adj9oIkQiyop"
      },
      "id": "adj9oIkQiyop",
      "execution_count": null,
      "outputs": []
    },
    {
      "cell_type": "code",
      "execution_count": null,
      "id": "afb26e88-7316-4a80-9b13-f471489b56f0",
      "metadata": {
        "id": "afb26e88-7316-4a80-9b13-f471489b56f0"
      },
      "outputs": [],
      "source": [
        "categorical=pd.get_dummies(df['origin'],drop_first=True)  #gets a table of one-hot encoded values\n",
        "categorical"
      ]
    },
    {
      "cell_type": "code",
      "execution_count": null,
      "id": "d6e3f51d-b62a-497c-9c6c-d127c9af6a49",
      "metadata": {
        "id": "d6e3f51d-b62a-497c-9c6c-d127c9af6a49"
      },
      "outputs": [],
      "source": [
        "categorical=categorical.astype(int) #converting from True-False to 1-0\n",
        "categorical=categorical.rename(columns={2:'Origin-2',3:'Origin-3'})\n",
        "categorical"
      ]
    },
    {
      "cell_type": "code",
      "execution_count": null,
      "id": "ada7affe-0614-453a-b3ef-d8e9e5d550e6",
      "metadata": {
        "id": "ada7affe-0614-453a-b3ef-d8e9e5d550e6"
      },
      "outputs": [],
      "source": [
        "x=x.drop(['origin'],axis=1)   #remove origin column from x\n",
        "x=x.join(categorical)    #add the encoded columns\n",
        "x"
      ]
    },
    {
      "cell_type": "markdown",
      "id": "aec70e5a-13fb-4e4a-9d63-6135f6b3dcdb",
      "metadata": {
        "id": "aec70e5a-13fb-4e4a-9d63-6135f6b3dcdb"
      },
      "source": [
        "## Feature Scaling"
      ]
    },
    {
      "cell_type": "code",
      "execution_count": null,
      "id": "c2b3441a-da3e-4115-a13a-78a76c66a273",
      "metadata": {
        "id": "c2b3441a-da3e-4115-a13a-78a76c66a273"
      },
      "outputs": [],
      "source": [
        "from sklearn.preprocessing import StandardScaler"
      ]
    },
    {
      "cell_type": "code",
      "execution_count": null,
      "id": "f47ae9ca-ac30-4d21-b3fb-4145424835c3",
      "metadata": {
        "id": "f47ae9ca-ac30-4d21-b3fb-4145424835c3"
      },
      "outputs": [],
      "source": [
        "scaler=StandardScaler()   #creating a standard scaler object\n",
        "X=scaler.fit_transform(x)   #fitting it on the inputs, and scaling the inputs."
      ]
    },
    {
      "cell_type": "code",
      "execution_count": null,
      "id": "8d47b29b-4925-4cae-a812-dc0ad8306de7",
      "metadata": {
        "id": "8d47b29b-4925-4cae-a812-dc0ad8306de7"
      },
      "outputs": [],
      "source": [
        "X"
      ]
    },
    {
      "cell_type": "code",
      "execution_count": null,
      "id": "f8db7078-1b02-42bd-af75-e943cc2c5395",
      "metadata": {
        "id": "f8db7078-1b02-42bd-af75-e943cc2c5395"
      },
      "outputs": [],
      "source": [
        "y=y.to_numpy() #converting y to a numpy array.\n",
        "y"
      ]
    },
    {
      "cell_type": "markdown",
      "id": "f3f9c426-a404-464c-91e6-1661a7dd4980",
      "metadata": {
        "id": "f3f9c426-a404-464c-91e6-1661a7dd4980"
      },
      "source": [
        "### We have preprocessed the data."
      ]
    },
    {
      "cell_type": "markdown",
      "id": "bc83e381-2887-4ebc-b85c-6b4a336f07fe",
      "metadata": {
        "id": "bc83e381-2887-4ebc-b85c-6b4a336f07fe"
      },
      "source": [
        "## Part 2 : Machine Learning"
      ]
    },
    {
      "cell_type": "markdown",
      "source": [
        "# Splitting the Data into Training and Testing\n",
        "\n",
        "Splitting a dataset into training and testing sets ensures the model learns patterns from one part (training) and is evaluated on unseen data (testing) to check its generalization ability. This prevents overfitting and provides a realistic measure of real-world performance."
      ],
      "metadata": {
        "id": "pyhx1-DUu0fp"
      },
      "id": "pyhx1-DUu0fp"
    },
    {
      "cell_type": "code",
      "source": [
        "from sklearn.model_selection import train_test_split"
      ],
      "metadata": {
        "id": "K9vJbv5Y0bPv"
      },
      "id": "K9vJbv5Y0bPv",
      "execution_count": null,
      "outputs": []
    },
    {
      "cell_type": "code",
      "source": [
        "X_train, X_test, y_train, y_test = train_test_split(X,\n",
        "                                                    y,\n",
        "                                                    test_size=0.2,\n",
        "                                                    random_state=42)\n",
        "# splits dataset into testing and training sets\n"
      ],
      "metadata": {
        "id": "GrE2QgE40dMh"
      },
      "id": "GrE2QgE40dMh",
      "execution_count": null,
      "outputs": []
    },
    {
      "cell_type": "code",
      "source": [
        "X_train"
      ],
      "metadata": {
        "id": "6qI6UWA2w5na"
      },
      "id": "6qI6UWA2w5na",
      "execution_count": null,
      "outputs": []
    },
    {
      "cell_type": "code",
      "source": [
        "y_train"
      ],
      "metadata": {
        "id": "CH_puGoEw7Qi"
      },
      "id": "CH_puGoEw7Qi",
      "execution_count": null,
      "outputs": []
    },
    {
      "cell_type": "code",
      "source": [
        "X_test"
      ],
      "metadata": {
        "id": "jHfhEyEEw8nz"
      },
      "id": "jHfhEyEEw8nz",
      "execution_count": null,
      "outputs": []
    },
    {
      "cell_type": "code",
      "source": [
        "print(len(X_train), len(X_test), len(y_train), len(y_test))"
      ],
      "metadata": {
        "id": "r2Pewwp1x0z8"
      },
      "id": "r2Pewwp1x0z8",
      "execution_count": null,
      "outputs": []
    },
    {
      "cell_type": "markdown",
      "source": [
        "## Linear Regression (Training and Testing)"
      ],
      "metadata": {
        "id": "TC9xs4TPuZLY"
      },
      "id": "TC9xs4TPuZLY"
    },
    {
      "cell_type": "code",
      "source": [
        "from sklearn.linear_model import LinearRegression"
      ],
      "metadata": {
        "id": "TfycY7en0i05"
      },
      "id": "TfycY7en0i05",
      "execution_count": null,
      "outputs": []
    },
    {
      "cell_type": "code",
      "source": [
        "lr_model=LinearRegression() # creating a model"
      ],
      "metadata": {
        "id": "gGEMC3c70mXq"
      },
      "id": "gGEMC3c70mXq",
      "execution_count": null,
      "outputs": []
    },
    {
      "cell_type": "code",
      "source": [
        "lr_model.fit(X_train, y_train) # fitting a model based on the training data"
      ],
      "metadata": {
        "id": "uSZH2GSE1JX_",
        "collapsed": true
      },
      "id": "uSZH2GSE1JX_",
      "execution_count": null,
      "outputs": []
    },
    {
      "cell_type": "code",
      "source": [
        "lr_pred = lr_model.predict(X_test) # putting the test data to see if predictions are correct"
      ],
      "metadata": {
        "id": "RJbCfkS-1Lt8"
      },
      "id": "RJbCfkS-1Lt8",
      "execution_count": null,
      "outputs": []
    },
    {
      "cell_type": "code",
      "source": [
        "lr_pred"
      ],
      "metadata": {
        "id": "29WTYIjpWaQN"
      },
      "id": "29WTYIjpWaQN",
      "execution_count": null,
      "outputs": []
    },
    {
      "cell_type": "code",
      "source": [
        "from sklearn.metrics import mean_squared_error, r2_score # scoring the model based on some criteria"
      ],
      "metadata": {
        "id": "nTsAnlKj1M-N"
      },
      "id": "nTsAnlKj1M-N",
      "execution_count": null,
      "outputs": []
    },
    {
      "cell_type": "code",
      "source": [
        "# Calculate metrics\n",
        "lr_mse = mean_squared_error(y_test, lr_pred)\n",
        "lr_rmse = np.sqrt(lr_mse) # root mean squared error\n",
        "# closer to 0, the better"
      ],
      "metadata": {
        "id": "pFanUGb-1Rgo"
      },
      "id": "pFanUGb-1Rgo",
      "execution_count": null,
      "outputs": []
    },
    {
      "cell_type": "code",
      "source": [
        "lr_rmse"
      ],
      "metadata": {
        "id": "xGHjeLFioBjD"
      },
      "id": "xGHjeLFioBjD",
      "execution_count": null,
      "outputs": []
    },
    {
      "cell_type": "markdown",
      "source": [
        "![r2_score.png](data:image/png;base64,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)"
      ],
      "metadata": {
        "id": "7ufNGtxL0-nA"
      },
      "id": "7ufNGtxL0-nA"
    },
    {
      "cell_type": "code",
      "source": [
        "lr_r2 = r2_score(y_test, lr_pred) # r2 score\n",
        "# closer to 0 - worst\n",
        "# closer to 1 - best"
      ],
      "metadata": {
        "id": "KKO5T1FH1a3h"
      },
      "id": "KKO5T1FH1a3h",
      "execution_count": null,
      "outputs": []
    },
    {
      "cell_type": "code",
      "source": [
        "print(\"Linear Regression Results:\")\n",
        "print(f\"RMSE: {lr_rmse:.2f}\")\n",
        "print(f\"R2 Score: {lr_r2:.2f}\")"
      ],
      "metadata": {
        "id": "0lslI6kX1fCX"
      },
      "id": "0lslI6kX1fCX",
      "execution_count": null,
      "outputs": []
    },
    {
      "cell_type": "code",
      "source": [
        "import matplotlib.pyplot as plt # to plot graphs"
      ],
      "metadata": {
        "id": "HaoToWDk1rpp"
      },
      "id": "HaoToWDk1rpp",
      "execution_count": null,
      "outputs": []
    },
    {
      "cell_type": "code",
      "source": [
        "plt.figure(figsize=(10, 6))\n",
        "plt.scatter(y_test, lr_pred, alpha=0.5)\n",
        "plt.plot([y_test.min(), y_test.max()], [y_test.min(), y_test.max()], 'r--', lw=2)\n",
        "plt.xlabel('Actual MPG')\n",
        "plt.ylabel('Predicted MPG')\n",
        "plt.title('Linear Regression: Actual vs Predicted MPG')\n",
        "plt.tight_layout()\n",
        "plt.show()"
      ],
      "metadata": {
        "id": "mDSUEkGp1k-P"
      },
      "id": "mDSUEkGp1k-P",
      "execution_count": null,
      "outputs": []
    },
    {
      "cell_type": "markdown",
      "source": [
        "## Random Forest (Training and Testing)"
      ],
      "metadata": {
        "id": "X41nJmKD202_"
      },
      "id": "X41nJmKD202_"
    },
    {
      "cell_type": "code",
      "source": [
        "from sklearn.ensemble import RandomForestRegressor"
      ],
      "metadata": {
        "id": "Qudo-Wst2tYF"
      },
      "id": "Qudo-Wst2tYF",
      "execution_count": null,
      "outputs": []
    },
    {
      "cell_type": "code",
      "source": [
        "rf_model = RandomForestRegressor(n_estimators=100, random_state=42) # creating a model"
      ],
      "metadata": {
        "id": "VR9ylilM2xhh"
      },
      "id": "VR9ylilM2xhh",
      "execution_count": null,
      "outputs": []
    },
    {
      "cell_type": "code",
      "source": [
        "rf_model.fit(X_train, y_train) #training the model"
      ],
      "metadata": {
        "id": "NwEJIKlL2zx2"
      },
      "id": "NwEJIKlL2zx2",
      "execution_count": null,
      "outputs": []
    },
    {
      "cell_type": "code",
      "source": [
        "rf_pred = rf_model.predict(X_test) # predicting the model on test data"
      ],
      "metadata": {
        "id": "pWbYCWbd20Gy"
      },
      "id": "pWbYCWbd20Gy",
      "execution_count": null,
      "outputs": []
    },
    {
      "cell_type": "code",
      "source": [
        "rf_pred"
      ],
      "metadata": {
        "id": "YG3CNKoUWdXg"
      },
      "id": "YG3CNKoUWdXg",
      "execution_count": null,
      "outputs": []
    },
    {
      "cell_type": "code",
      "source": [
        "rf_mse = mean_squared_error(y_test, rf_pred)\n",
        "rf_rmse = np.sqrt(rf_mse) # root mean squared error"
      ],
      "metadata": {
        "id": "vp3tXnB4266T"
      },
      "id": "vp3tXnB4266T",
      "execution_count": null,
      "outputs": []
    },
    {
      "cell_type": "code",
      "source": [
        "rf_r2 = r2_score(y_test, rf_pred) # r2 score"
      ],
      "metadata": {
        "id": "4RALpqy627OZ"
      },
      "id": "4RALpqy627OZ",
      "execution_count": null,
      "outputs": []
    },
    {
      "cell_type": "code",
      "source": [
        "print(\"\\nRandom Forest Results:\")\n",
        "print(f\"RMSE: {rf_rmse:.2f}\")\n",
        "print(f\"R2 Score: {rf_r2:.2f}\")"
      ],
      "metadata": {
        "id": "cRvsmzVU27lb"
      },
      "id": "cRvsmzVU27lb",
      "execution_count": null,
      "outputs": []
    },
    {
      "cell_type": "markdown",
      "source": [
        "### Cross Validation\n",
        "Cross-validation is used to evaluate a model's performance by splitting the dataset into multiple training and validation sets, ensuring robust performance assessment across different data splits. It helps detect overfitting and underfitting while optimizing hyperparameters."
      ],
      "metadata": {
        "id": "kMbV3ZwW60zO"
      },
      "id": "kMbV3ZwW60zO"
    },
    {
      "cell_type": "code",
      "source": [
        "from sklearn.model_selection import cross_val_score # cross validation\n",
        "\n",
        "cv_scores = cross_val_score(rf_model, X, y, cv=5, scoring='r2')\n",
        "print(\"\\nCross-validation scores:\")\n",
        "print(f\"Average R2: {cv_scores.mean():.2f} (+/- {cv_scores.std() * 2:.2f})\")"
      ],
      "metadata": {
        "id": "CJTmghZS3NJa",
        "collapsed": true
      },
      "id": "CJTmghZS3NJa",
      "execution_count": null,
      "outputs": []
    },
    {
      "cell_type": "code",
      "source": [
        "plt.figure(figsize=(10, 6))\n",
        "plt.scatter(y_test, rf_pred, alpha=0.5)\n",
        "plt.plot([y_test.min(), y_test.max()], [y_test.min(), y_test.max()], 'r--', lw=2)\n",
        "plt.xlabel('Actual MPG')\n",
        "plt.ylabel('Predicted MPG')\n",
        "plt.title('Random Forest: Actual vs Predicted MPG')\n",
        "plt.tight_layout()\n",
        "plt.show()"
      ],
      "metadata": {
        "id": "IuPDJZts3Jnz"
      },
      "id": "IuPDJZts3Jnz",
      "execution_count": null,
      "outputs": []
    }
  ],
  "metadata": {
    "kernelspec": {
      "display_name": "Python 3",
      "name": "python3"
    },
    "language_info": {
      "codemirror_mode": {
        "name": "ipython",
        "version": 3
      },
      "file_extension": ".py",
      "mimetype": "text/x-python",
      "name": "python",
      "nbconvert_exporter": "python",
      "pygments_lexer": "ipython3",
      "version": "3.11.7"
    },
    "colab": {
      "provenance": []
    }
  },
  "nbformat": 4,
  "nbformat_minor": 5
}