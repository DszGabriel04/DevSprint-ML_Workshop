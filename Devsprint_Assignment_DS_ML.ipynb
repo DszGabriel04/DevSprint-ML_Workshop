{
  "nbformat": 4,
  "nbformat_minor": 0,
  "metadata": {
    "colab": {
      "provenance": []
    },
    "kernelspec": {
      "name": "python3",
      "display_name": "Python 3"
    },
    "language_info": {
      "name": "python"
    }
  },
  "cells": [
    {
      "cell_type": "markdown",
      "source": [
        "# Data Science / Data Preprocessing"
      ],
      "metadata": {
        "id": "H056jwnygKqC"
      }
    },
    {
      "cell_type": "code",
      "source": [
        "import numpy as np\n",
        "import pandas as pd\n",
        "import matplotlib.pyplot as plt"
      ],
      "metadata": {
        "id": "L4Gpct1mgRew"
      },
      "execution_count": null,
      "outputs": []
    },
    {
      "cell_type": "markdown",
      "source": [
        "### Q. How can i load the \"Housing.csv\" dataset into a pandas DataFrame?"
      ],
      "metadata": {
        "id": "H1Kdueafe22N"
      }
    },
    {
      "cell_type": "markdown",
      "source": [
        "_Hint: Use the pd.read_csv() method._"
      ],
      "metadata": {
        "id": "ikjWcAvPdUvD"
      }
    },
    {
      "cell_type": "code",
      "source": [],
      "metadata": {
        "id": "SB5yfFT7_gQS"
      },
      "execution_count": null,
      "outputs": []
    },
    {
      "cell_type": "markdown",
      "source": [
        "### Q. Display the DataFrame here."
      ],
      "metadata": {
        "id": "dv0ij6NKfeWU"
      }
    },
    {
      "cell_type": "code",
      "source": [],
      "metadata": {
        "id": "f_SHC5TK_094"
      },
      "execution_count": null,
      "outputs": []
    },
    {
      "cell_type": "markdown",
      "source": [
        "### Q. Display the information regarding the dataset in the DataFrame"
      ],
      "metadata": {
        "id": "ry-gYkkDfthz"
      }
    },
    {
      "cell_type": "markdown",
      "source": [
        "_Hint: Use the info() method in the dataframe._"
      ],
      "metadata": {
        "id": "tiwUTA_CddzQ"
      }
    },
    {
      "cell_type": "code",
      "source": [],
      "metadata": {
        "id": "Gj-JIAg-AB-5"
      },
      "execution_count": null,
      "outputs": []
    },
    {
      "cell_type": "markdown",
      "source": [
        "### Q. How can you see which columns have null values in them?"
      ],
      "metadata": {
        "id": "2lBs95nFgDbW"
      }
    },
    {
      "cell_type": "markdown",
      "source": [
        "_Hint: Use the .isna() method in the dataframe._"
      ],
      "metadata": {
        "id": "fz-1BkAbdoSl"
      }
    },
    {
      "cell_type": "code",
      "source": [],
      "metadata": {
        "id": "a3mP1NGGAHXa"
      },
      "execution_count": null,
      "outputs": []
    },
    {
      "cell_type": "markdown",
      "source": [
        "### Q. How do I get summary statistics for numerical columns?"
      ],
      "metadata": {
        "id": "KT3X_pOrg8ty"
      }
    },
    {
      "cell_type": "markdown",
      "source": [
        "_Hint: Use the describe() method present in the dataframe._"
      ],
      "metadata": {
        "id": "nCpk8pYMd3xp"
      }
    },
    {
      "cell_type": "code",
      "source": [],
      "metadata": {
        "id": "_8xkdBgJBiTM"
      },
      "execution_count": null,
      "outputs": []
    },
    {
      "cell_type": "markdown",
      "source": [
        "### Q. How can I display the number of unique values in a DataFrame?\n"
      ],
      "metadata": {
        "id": "IAMiRJm3hccS"
      }
    },
    {
      "cell_type": "markdown",
      "source": [
        "\n",
        "> _Hint: Use .nunique() method present in the dataframe._"
      ],
      "metadata": {
        "id": "7oDTQchwiPn6"
      }
    },
    {
      "cell_type": "code",
      "source": [],
      "metadata": {
        "id": "cCIh7kfiBiWF"
      },
      "execution_count": null,
      "outputs": []
    },
    {
      "cell_type": "code",
      "source": [
        "df.dtypes"
      ],
      "metadata": {
        "id": "yfy2uzpTBias"
      },
      "execution_count": null,
      "outputs": []
    },
    {
      "cell_type": "markdown",
      "source": [
        "### Q. Change the columns which have yes and no in them to 1 and 0.\n",
        "_Hint: We do this as 0 and 1 is easily understood by the model, compared to yes and no_\n",
        "\n",
        "_Hint: Use the .replace() method on the particular dataframe._"
      ],
      "metadata": {
        "id": "6HYPGmUMeNLM"
      }
    },
    {
      "cell_type": "code",
      "source": [
        "columns = ['price', 'area', 'bedrooms', 'bathrooms', 'stories',\n",
        "           'mainroad', 'guestroom', 'basement', 'hotwaterheating', 'airconditioning',\n",
        "           'parking', 'prefarea', 'furnishingstatus']"
      ],
      "metadata": {
        "id": "SipobjTum1LC"
      },
      "execution_count": null,
      "outputs": []
    },
    {
      "cell_type": "code",
      "source": [],
      "metadata": {
        "id": "qz7KxI_rCrsh"
      },
      "execution_count": null,
      "outputs": []
    },
    {
      "cell_type": "markdown",
      "source": [
        "### Q. How can we do one-hot encoding of the origin column?\n",
        "_Hint: Use the .get_dummies() method._"
      ],
      "metadata": {
        "id": "ZcfKr4Cle2PC"
      }
    },
    {
      "cell_type": "code",
      "source": [],
      "metadata": {
        "id": "PAa_RQfzD4gq"
      },
      "execution_count": null,
      "outputs": []
    },
    {
      "cell_type": "code",
      "source": [],
      "metadata": {
        "id": "jO1TW3z0EAeX"
      },
      "execution_count": null,
      "outputs": []
    },
    {
      "cell_type": "code",
      "source": [],
      "metadata": {
        "id": "PYFyxrDDELbX"
      },
      "execution_count": null,
      "outputs": []
    },
    {
      "cell_type": "code",
      "source": [
        "df"
      ],
      "metadata": {
        "id": "x4HMg8QsER0x"
      },
      "execution_count": null,
      "outputs": []
    },
    {
      "cell_type": "code",
      "source": [
        "df.info()"
      ],
      "metadata": {
        "id": "l2-9ZseUEVPu"
      },
      "execution_count": null,
      "outputs": []
    },
    {
      "cell_type": "markdown",
      "source": [
        "### Q. Split the dataframe into 2 dataframes X and y, where X has all the column features and y has the column you want to predict the values from."
      ],
      "metadata": {
        "id": "CH_ZZruGfVkS"
      }
    },
    {
      "cell_type": "code",
      "source": [],
      "metadata": {
        "id": "RQDy_Sy1EZje"
      },
      "execution_count": null,
      "outputs": []
    },
    {
      "cell_type": "markdown",
      "source": [
        "### Q. How can you scale the values of 'area' in DataFrame X, and values of 'price' in DataFrame y"
      ],
      "metadata": {
        "id": "3kOgYG6lfr5Z"
      }
    },
    {
      "cell_type": "code",
      "source": [],
      "metadata": {
        "id": "agYw_ADxEjz1"
      },
      "execution_count": null,
      "outputs": []
    },
    {
      "cell_type": "markdown",
      "source": [
        "### Q. Display the datasets X and y."
      ],
      "metadata": {
        "id": "kuoLsHu5oAbH"
      }
    },
    {
      "cell_type": "code",
      "source": [],
      "metadata": {
        "id": "TfBL_fsQE67O"
      },
      "execution_count": null,
      "outputs": []
    },
    {
      "cell_type": "code",
      "source": [],
      "metadata": {
        "id": "tBTLqXYVJUXj"
      },
      "execution_count": null,
      "outputs": []
    },
    {
      "cell_type": "markdown",
      "source": [
        "# Machine Learning"
      ],
      "metadata": {
        "id": "g9ghpP8llMRn"
      }
    },
    {
      "cell_type": "code",
      "source": [
        "from sklearn.model_selection import train_test_split\n",
        "from sklearn.linear_model import LinearRegression\n",
        "from sklearn.ensemble import RandomForestRegressor\n",
        "from sklearn.metrics import mean_squared_error, r2_score"
      ],
      "metadata": {
        "id": "4gM6YunbJ3Bw"
      },
      "execution_count": null,
      "outputs": []
    },
    {
      "cell_type": "markdown",
      "source": [
        "### Q. How can you split the Dataset into training and testing datasets?\n",
        "_Hint: Use the train_test_split() function._"
      ],
      "metadata": {
        "id": "gGoOrq7ClPI5"
      }
    },
    {
      "cell_type": "code",
      "source": [],
      "metadata": {
        "id": "wChV3t6eJXly"
      },
      "execution_count": null,
      "outputs": []
    },
    {
      "cell_type": "markdown",
      "source": [
        "### Q. Create a linear regression model."
      ],
      "metadata": {
        "id": "iRIUgu0slhqp"
      }
    },
    {
      "cell_type": "code",
      "source": [],
      "metadata": {
        "id": "YNbKuwoHKa7t"
      },
      "execution_count": null,
      "outputs": []
    },
    {
      "cell_type": "markdown",
      "source": [
        "### Q. Fit the model with the given training dataset."
      ],
      "metadata": {
        "id": "ja343RFRlm6Q"
      }
    },
    {
      "cell_type": "code",
      "source": [],
      "metadata": {
        "id": "jCg5BMrlKgOT"
      },
      "execution_count": null,
      "outputs": []
    },
    {
      "cell_type": "markdown",
      "source": [
        "### Q. See what predictions the trained model gives on the training dataset."
      ],
      "metadata": {
        "id": "ETI3oWVBlv0-"
      }
    },
    {
      "cell_type": "code",
      "source": [],
      "metadata": {
        "id": "HYtAjEWsKgoA"
      },
      "execution_count": null,
      "outputs": []
    },
    {
      "cell_type": "markdown",
      "source": [
        "### Q. Calculate the root mean squared error (RMSE) and R^2 Score of the model. Do this by comparing the predicted values with the test values of y."
      ],
      "metadata": {
        "id": "cYeZ6Vkml8dx"
      }
    },
    {
      "cell_type": "code",
      "source": [],
      "metadata": {
        "id": "KOu3FW1fKguY"
      },
      "execution_count": null,
      "outputs": []
    },
    {
      "cell_type": "code",
      "source": [],
      "metadata": {
        "id": "iEEMBEBHKgxS"
      },
      "execution_count": null,
      "outputs": []
    },
    {
      "cell_type": "code",
      "source": [
        "print(\"Linear Regression Results:\")\n"
      ],
      "metadata": {
        "id": "5hUVvJ2oKg0V"
      },
      "execution_count": null,
      "outputs": []
    },
    {
      "cell_type": "markdown",
      "source": [
        "### Q. Try the above steps using another regression model like RandomForestRegressor, SGDRegressor, etc."
      ],
      "metadata": {
        "id": "3ryfno78mWf3"
      }
    },
    {
      "cell_type": "code",
      "source": [],
      "metadata": {
        "id": "TB8geOfzKg6B"
      },
      "execution_count": null,
      "outputs": []
    },
    {
      "cell_type": "code",
      "source": [],
      "metadata": {
        "id": "BPoWFmbcKg8m"
      },
      "execution_count": null,
      "outputs": []
    },
    {
      "cell_type": "code",
      "source": [],
      "metadata": {
        "id": "1x5iFxPKKg_J"
      },
      "execution_count": null,
      "outputs": []
    }
  ]
}